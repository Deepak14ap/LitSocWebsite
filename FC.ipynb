{
  "nbformat": 4,
  "nbformat_minor": 0,
  "metadata": {
    "colab": {
      "name": "FC.ipynb",
      "provenance": [],
      "collapsed_sections": [],
      "include_colab_link": true
    },
    "kernelspec": {
      "name": "python3",
      "display_name": "Python 3"
    }
  },
  "cells": [
    {
      "cell_type": "markdown",
      "metadata": {
        "id": "view-in-github",
        "colab_type": "text"
      },
      "source": [
        "<a href=\"https://colab.research.google.com/github/Deepak14ap/LitSocWebsite/blob/master/FC.ipynb\" target=\"_parent\"><img src=\"https://colab.research.google.com/assets/colab-badge.svg\" alt=\"Open In Colab\"/></a>"
      ]
    },
    {
      "cell_type": "markdown",
      "metadata": {
        "id": "SpSnhz6KwAR2"
      },
      "source": [
        "Keras is a powerful and easy-to-use Python library for developing and evaluating deep learning models. It wraps the efficient numerical computation libraries Theano, CNTK and TensorFlow and allows you to define and train neural network models in a few short lines of code. In this tutorial you will discover how to create your first neural network model in Python using Keras. After completing this lesson you will know:\n",
        "\n",
        "\n",
        "*   How to load a dataset for use with Keras.\n",
        "*   How to define and compile a Multilayer Perceptron model in Keras.\n",
        "*   How to evaluate a Keras model on a validation dataset.\n",
        "\n"
      ]
    },
    {
      "cell_type": "markdown",
      "metadata": {
        "id": "T6sPb6S9wTew"
      },
      "source": [
        "# Load Libraries"
      ]
    },
    {
      "cell_type": "markdown",
      "metadata": {
        "id": "xZw7VarZwd-G"
      },
      "source": [
        "First step is to load the required libraries."
      ]
    },
    {
      "cell_type": "code",
      "metadata": {
        "id": "xWwF5yAuw2Xx"
      },
      "source": [
        "import numpy \n",
        "\n",
        "import matplotlib.pyplot as plt\n",
        "\n",
        "from tensorflow.keras.models import Sequential\n",
        "\n",
        "from tensorflow.keras.layers import Dense\n",
        "\n",
        "from tensorflow.keras.utils import to_categorical\n",
        "\n",
        "from tensorflow.keras.datasets import mnist"
      ],
      "execution_count": null,
      "outputs": []
    },
    {
      "cell_type": "markdown",
      "metadata": {
        "id": "578Oi4Mgw9hr"
      },
      "source": [
        "# Load Dataset in Numpy Format"
      ]
    },
    {
      "cell_type": "markdown",
      "metadata": {
        "id": "dxW0gFlxxAK9"
      },
      "source": [
        "MNIST is a simple computer vision dataset. It consists of images of handwritten digits. It also includes labels for each image, telling us which digit it is.\n",
        "\n",
        "The MNIST data is split into three parts: $60,000$ data points of training data, and $10,000$ points of test data. Each image is 28 pixels by 28 pixels."
      ]
    },
    {
      "cell_type": "code",
      "metadata": {
        "id": "A9nKAP49x0GI",
        "colab": {
          "base_uri": "https://localhost:8080/"
        },
        "outputId": "2e8e06d9-f591-4a3a-db92-40af5a6c265a"
      },
      "source": [
        "(X_train, y_train), (X_test, y_test) = mnist.load_data()"
      ],
      "execution_count": null,
      "outputs": [
        {
          "output_type": "stream",
          "text": [
            "Downloading data from https://storage.googleapis.com/tensorflow/tf-keras-datasets/mnist.npz\n",
            "11493376/11490434 [==============================] - 0s 0us/step\n"
          ],
          "name": "stdout"
        }
      ]
    },
    {
      "cell_type": "code",
      "metadata": {
        "id": "d4JngwOmyDpP",
        "colab": {
          "base_uri": "https://localhost:8080/"
        },
        "outputId": "f27d5aee-02e3-4b75-d74b-0b544cc0c415"
      },
      "source": [
        "X_train.shape"
      ],
      "execution_count": null,
      "outputs": [
        {
          "output_type": "execute_result",
          "data": {
            "text/plain": [
              "(60000, 28, 28)"
            ]
          },
          "metadata": {
            "tags": []
          },
          "execution_count": 5
        }
      ]
    },
    {
      "cell_type": "code",
      "metadata": {
        "id": "NParITruySsa",
        "colab": {
          "base_uri": "https://localhost:8080/"
        },
        "outputId": "93d7c32e-8b2e-4aba-f3c8-6a0b0e3b987d"
      },
      "source": [
        "y_train.shape"
      ],
      "execution_count": null,
      "outputs": [
        {
          "output_type": "execute_result",
          "data": {
            "text/plain": [
              "(60000,)"
            ]
          },
          "metadata": {
            "tags": []
          },
          "execution_count": 6
        }
      ]
    },
    {
      "cell_type": "code",
      "metadata": {
        "id": "G9qDBv-5yY3o",
        "colab": {
          "base_uri": "https://localhost:8080/"
        },
        "outputId": "97274f3f-ee2b-4074-a76e-9bae40a9457b"
      },
      "source": [
        "X_test.shape"
      ],
      "execution_count": null,
      "outputs": [
        {
          "output_type": "execute_result",
          "data": {
            "text/plain": [
              "(10000, 28, 28)"
            ]
          },
          "metadata": {
            "tags": []
          },
          "execution_count": 7
        }
      ]
    },
    {
      "cell_type": "code",
      "metadata": {
        "id": "QT_EfqFVydlx",
        "colab": {
          "base_uri": "https://localhost:8080/"
        },
        "outputId": "d30eb7f5-74c4-402e-a5d7-6b088a0cea2c"
      },
      "source": [
        "y_test.shape"
      ],
      "execution_count": null,
      "outputs": [
        {
          "output_type": "execute_result",
          "data": {
            "text/plain": [
              "(10000,)"
            ]
          },
          "metadata": {
            "tags": []
          },
          "execution_count": 8
        }
      ]
    },
    {
      "cell_type": "code",
      "metadata": {
        "id": "nZllUnvJyiQ7",
        "colab": {
          "base_uri": "https://localhost:8080/",
          "height": 267
        },
        "outputId": "1337428e-3f2e-4c18-c083-c4d34530a0b9"
      },
      "source": [
        "# plot 4 images as gray scale\n",
        "plt.subplot(221)\n",
        "plt.imshow(X_train[0], cmap=plt.get_cmap('gray'))\n",
        "plt.subplot(222)\n",
        "plt.imshow(X_train[1], cmap=plt.get_cmap('gray'))\n",
        "plt.subplot(223)\n",
        "plt.imshow(X_train[2], cmap=plt.get_cmap('gray'))\n",
        "plt.subplot(224)\n",
        "plt.imshow(X_train[3], cmap=plt.get_cmap('gray'))\n",
        "# show the plot\n",
        "plt.show()"
      ],
      "execution_count": null,
      "outputs": [
        {
          "output_type": "display_data",
          "data": {
            "image/png": "[encoded data removed]",
            "text/plain": [
              "<Figure size 432x288 with 4 Axes>"
            ]
          },
          "metadata": {
            "tags": [],
            "needs_background": "light"
          }
        }
      ]
    },
    {
      "cell_type": "markdown",
      "metadata": {
        "id": "0C1TncQhzapf"
      },
      "source": [
        "# Formatting Data and Labels for Keras"
      ]
    },
    {
      "cell_type": "markdown",
      "metadata": {
        "id": "YuUHfffMzcnG"
      },
      "source": [
        "We can flatten this array into a vector of $28\\times28 = 784$ numbers. It doesn't matter how we flatten the array, as long as we're consistent between images. From this perspective, the MNIST images are just a bunch of points in a 784-dimensional vector space. The data should always be of the format (Number of data points, data point dimension). In this case the training data will be of format $60,000\\times784$."
      ]
    },
    {
      "cell_type": "code",
      "metadata": {
        "id": "WUAPRSm5zj0q"
      },
      "source": [
        "num_pixels = X_train.shape[1] * X_train.shape[2]\n",
        "\n",
        "X_train = X_train.reshape(X_train.shape[0], num_pixels).astype('float32')\n",
        "\n",
        "X_test = X_test.reshape(X_test.shape[0], num_pixels).astype('float32')\n",
        "\n",
        "X_train = X_train / 255 \n",
        "\n",
        "X_test = X_test / 255\n",
        "\n",
        "y_train = to_categorical(y_train)  [0, 0, 0, 1, 0, 0, 0, 0, 0, 0] (60000, 1) (60000, 10)\n",
        "\n",
        "y_test = to_categorical(y_test)\n",
        "\n",
        "num_classes = y_test.shape[1]"
      ],
      "execution_count": null,
      "outputs": []
    },
    {
      "cell_type": "code",
      "metadata": {
        "id": "3Qa_Wz5Bzu_x",
        "colab": {
          "base_uri": "https://localhost:8080/"
        },
        "outputId": "d45c5764-a35e-4f00-bef1-263e4a6db0b4"
      },
      "source": [
        "X_train.shape"
      ],
      "execution_count": null,
      "outputs": [
        {
          "output_type": "execute_result",
          "data": {
            "text/plain": [
              "(60000, 784)"
            ]
          },
          "metadata": {
            "tags": []
          },
          "execution_count": 11
        }
      ]
    },
    {
      "cell_type": "code",
      "metadata": {
        "id": "tKMkULioz0BC",
        "colab": {
          "base_uri": "https://localhost:8080/"
        },
        "outputId": "e4a3d1f6-7b6e-4a16-8a7f-754942a33413"
      },
      "source": [
        "X_test.shape"
      ],
      "execution_count": null,
      "outputs": [
        {
          "output_type": "execute_result",
          "data": {
            "text/plain": [
              "(10000, 784)"
            ]
          },
          "metadata": {
            "tags": []
          },
          "execution_count": 12
        }
      ]
    },
    {
      "cell_type": "code",
      "metadata": {
        "id": "gjXdMAgQz3Yk",
        "colab": {
          "base_uri": "https://localhost:8080/"
        },
        "outputId": "a0a7d5ad-e8cb-46a3-8ff2-654b00e0cea1"
      },
      "source": [
        "y_train.shape"
      ],
      "execution_count": null,
      "outputs": [
        {
          "output_type": "execute_result",
          "data": {
            "text/plain": [
              "(60000, 10)"
            ]
          },
          "metadata": {
            "tags": []
          },
          "execution_count": 13
        }
      ]
    },
    {
      "cell_type": "code",
      "metadata": {
        "id": "YwG7OnE5z5av",
        "colab": {
          "base_uri": "https://localhost:8080/"
        },
        "outputId": "327f4202-6a7a-4058-b3d1-1a3f646d23e3"
      },
      "source": [
        "y_test.shape"
      ],
      "execution_count": null,
      "outputs": [
        {
          "output_type": "execute_result",
          "data": {
            "text/plain": [
              "(10000, 10)"
            ]
          },
          "metadata": {
            "tags": []
          },
          "execution_count": 14
        }
      ]
    },
    {
      "cell_type": "markdown",
      "metadata": {
        "id": "VUZqC-Mf0F4a"
      },
      "source": [
        "# Defining a single layer neural network model"
      ]
    },
    {
      "cell_type": "markdown",
      "metadata": {
        "id": "S5-Tn0K30Hyq"
      },
      "source": [
        "Here we will define a single layer neural network. It will have a input layer of $784$ neurons, i.e. the input dimension and output layer of $10$ neurons, i.e. number of classes. The activation function used will be softmax activation."
      ]
    },
    {
      "cell_type": "code",
      "metadata": {
        "id": "IlB928RI0LWk"
      },
      "source": [
        "# create model\n",
        "\n",
        "model = Sequential()   # 784 10\n",
        "\n",
        "model.add(Dense(num_classes, input_dim=num_pixels, activation='softmax'))\n"
      ],
      "execution_count": null,
      "outputs": []
    },
    {
      "cell_type": "markdown",
      "metadata": {
        "id": "0woBCP1C0TV-"
      },
      "source": [
        "# Compiling the model"
      ]
    },
    {
      "cell_type": "markdown",
      "metadata": {
        "id": "4aSmUA3-0WIJ"
      },
      "source": [
        "Once the model is defined, we have to compile it. While compiling we provide the loss function to be used, the optimizer and any metric. Here we will use crossentropy loss with Adam optimizer and accuracy as a metric."
      ]
    },
    {
      "cell_type": "code",
      "metadata": {
        "id": "c8n--FDX0YjB"
      },
      "source": [
        "# Compile model\n",
        "\n",
        "model.compile(loss='categorical_crossentropy', optimizer='sgd', metrics=['accuracy'])\n"
      ],
      "execution_count": null,
      "outputs": []
    },
    {
      "cell_type": "markdown",
      "metadata": {
        "id": "xq5f_ROP0ieD"
      },
      "source": [
        "# Training/Fitting the model"
      ]
    },
    {
      "cell_type": "markdown",
      "metadata": {
        "id": "V3gWi2g40kSf"
      },
      "source": [
        "Now the model is ready to be trained. We will provide training data to the network. Also we will specify the validation data, over which the model will only be validated."
      ]
    },
    {
      "cell_type": "code",
      "metadata": {
        "id": "xsJq43ok0mlT",
        "colab": {
          "base_uri": "https://localhost:8080/"
        },
        "outputId": "2e9d5a84-d023-4c41-8c7b-2b8e5af67350"
      },
      "source": [
        "# Training model\n",
        "\n",
        "model.fit(X_train, y_train, validation_data=(X_test, y_test), epochs=10, batch_size=200)"
      ],
      "execution_count": null,
      "outputs": [
        {
          "output_type": "stream",
          "text": [
            "Epoch 1/10\n",
            "300/300 [==============================] - 2s 4ms/step - loss: 1.2364 - accuracy: 0.6646 - val_loss: 0.4353 - val_accuracy: 0.8939\n",
            "Epoch 2/10\n",
            "300/300 [==============================] - 1s 3ms/step - loss: 0.4258 - accuracy: 0.8884 - val_loss: 0.3473 - val_accuracy: 0.9075\n",
            "Epoch 3/10\n",
            "300/300 [==============================] - 1s 3ms/step - loss: 0.3537 - accuracy: 0.9036 - val_loss: 0.3160 - val_accuracy: 0.9138\n",
            "Epoch 4/10\n",
            "300/300 [==============================] - 1s 3ms/step - loss: 0.3215 - accuracy: 0.9106 - val_loss: 0.2987 - val_accuracy: 0.9188\n",
            "Epoch 5/10\n",
            "300/300 [==============================] - 1s 3ms/step - loss: 0.3055 - accuracy: 0.9167 - val_loss: 0.2893 - val_accuracy: 0.9204\n",
            "Epoch 6/10\n",
            "300/300 [==============================] - 1s 3ms/step - loss: 0.2972 - accuracy: 0.9175 - val_loss: 0.2809 - val_accuracy: 0.9216\n",
            "Epoch 7/10\n",
            "300/300 [==============================] - 1s 3ms/step - loss: 0.2830 - accuracy: 0.9216 - val_loss: 0.2779 - val_accuracy: 0.9218\n",
            "Epoch 8/10\n",
            "300/300 [==============================] - 1s 3ms/step - loss: 0.2796 - accuracy: 0.9231 - val_loss: 0.2755 - val_accuracy: 0.9240\n",
            "Epoch 9/10\n",
            "300/300 [==============================] - 1s 3ms/step - loss: 0.2718 - accuracy: 0.9253 - val_loss: 0.2704 - val_accuracy: 0.9239\n",
            "Epoch 10/10\n",
            "300/300 [==============================] - 1s 3ms/step - loss: 0.2757 - accuracy: 0.9237 - val_loss: 0.2677 - val_accuracy: 0.9258\n"
          ],
          "name": "stdout"
        },
        {
          "output_type": "execute_result",
          "data": {
            "text/plain": [
              "<tensorflow.python.keras.callbacks.History at 0x7f317e75b610>"
            ]
          },
          "metadata": {
            "tags": []
          },
          "execution_count": 17
        }
      ]
    },
    {
      "cell_type": "markdown",
      "metadata": {
        "id": "b4BjzfDW0w6v"
      },
      "source": [
        "# Evaluating the model"
      ]
    },
    {
      "cell_type": "markdown",
      "metadata": {
        "id": "_0FdSOdT01df"
      },
      "source": [
        "Finally we will evaluate the model on the testing dataset."
      ]
    },
    {
      "cell_type": "code",
      "metadata": {
        "id": "atp-I5qg04Ao",
        "colab": {
          "base_uri": "https://localhost:8080/"
        },
        "outputId": "c2d1f0b5-ccd8-44f8-bae8-e6270d7a808f"
      },
      "source": [
        "# Final evaluation of the model\n",
        "\n",
        "scores = model.evaluate(X_test, y_test)\n",
        "\n",
        "print(\"Baseline Error: %.2f%%\" % (100-scores[1]*100))"
      ],
      "execution_count": null,
      "outputs": [
        {
          "output_type": "stream",
          "text": [
            "313/313 [==============================] - 1s 2ms/step - loss: 0.2677 - accuracy: 0.9258\n",
            "Baseline Error: 7.42%\n"
          ],
          "name": "stdout"
        }
      ]
    },
    {
      "cell_type": "markdown",
      "metadata": {
        "id": "7Ux0ZGYe1Abb"
      },
      "source": [
        "# Defining a multi-layer model"
      ]
    },
    {
      "cell_type": "markdown",
      "metadata": {
        "id": "N9zn7vqG1DUh"
      },
      "source": [
        "Now we will define a multi layer neural network in which we will add $2$ hidden layers having $500$ and $100$ neurons."
      ]
    },
    {
      "cell_type": "code",
      "metadata": {
        "id": "NyWnrEko1D-4"
      },
      "source": [
        "model = Sequential()\n",
        "\n",
        "model.add(Dense(500, input_dim=num_pixels, activation='relu'))\n",
        "\n",
        "model.add(Dense(100, activation='relu'))\n",
        "\n",
        "model.add(Dense(num_classes, activation='softmax')) \n"
      ],
      "execution_count": null,
      "outputs": []
    },
    {
      "cell_type": "code",
      "metadata": {
        "id": "2OT0zQrT1FtF",
        "colab": {
          "base_uri": "https://localhost:8080/"
        },
        "outputId": "3f2b5929-b6cc-4c6c-f6b7-3fd0743a75dd"
      },
      "source": [
        "# Compile model\n",
        "\n",
        "model.compile(loss='categorical_crossentropy', optimizer='adam', metrics=['accuracy'])\n",
        "\n",
        "# Training model\n",
        "\n",
        "model.fit(X_train, y_train, validation_data=(X_test, y_test), epochs=10, batch_size=200)\n",
        "\n",
        "# Final evaluation of the model\n",
        "\n",
        "scores = model.evaluate(X_test, y_test)\n",
        "\n",
        "print(\"Baseline Error: %.2f%%\" % (100-scores[1]*100))"
      ],
      "execution_count": null,
      "outputs": [
        {
          "output_type": "stream",
          "text": [
            "Epoch 1/10\n",
            "300/300 [==============================] - 5s 14ms/step - loss: 0.4961 - accuracy: 0.8590 - val_loss: 0.1290 - val_accuracy: 0.9602\n",
            "Epoch 2/10\n",
            "300/300 [==============================] - 4s 13ms/step - loss: 0.1055 - accuracy: 0.9685 - val_loss: 0.0821 - val_accuracy: 0.9749\n",
            "Epoch 3/10\n",
            "300/300 [==============================] - 4s 13ms/step - loss: 0.0633 - accuracy: 0.9813 - val_loss: 0.0803 - val_accuracy: 0.9755\n",
            "Epoch 4/10\n",
            "300/300 [==============================] - 4s 13ms/step - loss: 0.0426 - accuracy: 0.9878 - val_loss: 0.0732 - val_accuracy: 0.9791\n",
            "Epoch 5/10\n",
            "300/300 [==============================] - 4s 13ms/step - loss: 0.0299 - accuracy: 0.9910 - val_loss: 0.0725 - val_accuracy: 0.9760\n",
            "Epoch 6/10\n",
            "300/300 [==============================] - 4s 13ms/step - loss: 0.0214 - accuracy: 0.9940 - val_loss: 0.0706 - val_accuracy: 0.9791\n",
            "Epoch 7/10\n",
            "300/300 [==============================] - 4s 13ms/step - loss: 0.0164 - accuracy: 0.9947 - val_loss: 0.0701 - val_accuracy: 0.9803\n",
            "Epoch 8/10\n",
            "300/300 [==============================] - 4s 13ms/step - loss: 0.0131 - accuracy: 0.9960 - val_loss: 0.0690 - val_accuracy: 0.9808\n",
            "Epoch 9/10\n",
            "300/300 [==============================] - 4s 13ms/step - loss: 0.0125 - accuracy: 0.9961 - val_loss: 0.0711 - val_accuracy: 0.9804\n",
            "Epoch 10/10\n",
            "300/300 [==============================] - 4s 13ms/step - loss: 0.0062 - accuracy: 0.9982 - val_loss: 0.0689 - val_accuracy: 0.9806\n",
            "313/313 [==============================] - 1s 3ms/step - loss: 0.0689 - accuracy: 0.9806\n",
            "Baseline Error: 1.94%\n"
          ],
          "name": "stdout"
        }
      ]
    },
    {
      "cell_type": "markdown",
      "metadata": {
        "id": "GqtOXOF5uBd2"
      },
      "source": [
        "# Defining a deep model"
      ]
    },
    {
      "cell_type": "markdown",
      "metadata": {
        "id": "uH95c17iuSGT"
      },
      "source": [
        "Now we will define a multi layer neural network in which we will add $2$ hidden layers having $500$ and $100$ neurons."
      ]
    },
    {
      "cell_type": "code",
      "metadata": {
        "id": "aOEFDbIJuSGT"
      },
      "source": [
        "model = Sequential()  \n",
        "\n",
        "model.add(Dense(500, input_dim=num_pixels, activation='sigmoid'))\n",
        "\n",
        "model.add(Dense(100, activation='sigmoid'))\n",
        "\n",
        "model.add(Dense(50, activation = 'sigmoid'))\n",
        "\n",
        "model.add(Dense(num_classes, activation='softmax'))\n"
      ],
      "execution_count": null,
      "outputs": []
    },
    {
      "cell_type": "code",
      "metadata": {
        "colab": {
          "base_uri": "https://localhost:8080/"
        },
        "id": "o6S1J51QuSGY",
        "outputId": "507608cb-ff4b-43d6-febe-0811b3a1a323"
      },
      "source": [
        "# Compile model\n",
        "model.compile(loss='categorical_crossentropy', optimizer='adam', metrics=['accuracy'])\n",
        "\n",
        "# Training model\n",
        "\n",
        "model.fit(X_train, y_train, validation_data=(X_test, y_test), epochs=10, batch_size=200)\n",
        "\n",
        "# Final evaluation of the model\n",
        "\n",
        "scores = model.evaluate(X_test, y_test)\n",
        "\n",
        "print(\"Baseline Error: %.2f%%\" % (100-scores[1]*100))"
      ],
      "execution_count": null,
      "outputs": [
        {
          "output_type": "stream",
          "text": [
            "Epoch 1/10\n",
            "300/300 [==============================] - 5s 15ms/step - loss: 1.5274 - accuracy: 0.5747 - val_loss: 0.3672 - val_accuracy: 0.9107\n",
            "Epoch 2/10\n",
            "300/300 [==============================] - 4s 13ms/step - loss: 0.3203 - accuracy: 0.9185 - val_loss: 0.2253 - val_accuracy: 0.9369\n",
            "Epoch 3/10\n",
            "300/300 [==============================] - 4s 13ms/step - loss: 0.2040 - accuracy: 0.9440 - val_loss: 0.1709 - val_accuracy: 0.9520\n",
            "Epoch 4/10\n",
            "300/300 [==============================] - 4s 13ms/step - loss: 0.1514 - accuracy: 0.9582 - val_loss: 0.1396 - val_accuracy: 0.9611\n",
            "Epoch 5/10\n",
            "300/300 [==============================] - 4s 13ms/step - loss: 0.1185 - accuracy: 0.9659 - val_loss: 0.1154 - val_accuracy: 0.9658\n",
            "Epoch 6/10\n",
            "300/300 [==============================] - 4s 13ms/step - loss: 0.0912 - accuracy: 0.9743 - val_loss: 0.1003 - val_accuracy: 0.9706\n",
            "Epoch 7/10\n",
            "300/300 [==============================] - 4s 13ms/step - loss: 0.0748 - accuracy: 0.9792 - val_loss: 0.0919 - val_accuracy: 0.9724\n",
            "Epoch 8/10\n",
            "300/300 [==============================] - 4s 14ms/step - loss: 0.0624 - accuracy: 0.9825 - val_loss: 0.0867 - val_accuracy: 0.9740\n",
            "Epoch 9/10\n",
            "300/300 [==============================] - 4s 13ms/step - loss: 0.0523 - accuracy: 0.9858 - val_loss: 0.0807 - val_accuracy: 0.9753\n",
            "Epoch 10/10\n",
            "300/300 [==============================] - 4s 13ms/step - loss: 0.0420 - accuracy: 0.9883 - val_loss: 0.0732 - val_accuracy: 0.9779\n",
            "313/313 [==============================] - 1s 3ms/step - loss: 0.0732 - accuracy: 0.9779\n",
            "Baseline Error: 2.21%\n"
          ],
          "name": "stdout"
        }
      ]
    },
    {
      "cell_type": "markdown",
      "metadata": {
        "id": "PuDzWGiuS9gE"
      },
      "source": [
        "# Analyzing Model Summary"
      ]
    },
    {
      "cell_type": "markdown",
      "metadata": {
        "id": "5u8hQOzITCQ2"
      },
      "source": [
        "The following function provides us with detailed summary of the model. We can use it after we have defined\n",
        "our model."
      ]
    },
    {
      "cell_type": "code",
      "metadata": {
        "id": "4gQkPJ5BTLxc",
        "colab": {
          "base_uri": "https://localhost:8080/"
        },
        "outputId": "478a89fa-a34d-4d02-815e-53a23ec7b4f0"
      },
      "source": [
        "model.summary()   784*500+500"
      ],
      "execution_count": null,
      "outputs": [
        {
          "output_type": "stream",
          "text": [
            "Model: \"sequential_2\"\n",
            "_________________________________________________________________\n",
            "Layer (type)                 Output Shape              Param #   \n",
            "=================================================================\n",
            "dense_4 (Dense)              (None, 500)               392500    \n",
            "_________________________________________________________________\n",
            "dense_5 (Dense)              (None, 100)               50100     \n",
            "_________________________________________________________________\n",
            "dense_6 (Dense)              (None, 50)                5050      \n",
            "_________________________________________________________________\n",
            "dense_7 (Dense)              (None, 10)                510       \n",
            "=================================================================\n",
            "Total params: 448,160\n",
            "Trainable params: 448,160\n",
            "Non-trainable params: 0\n",
            "_________________________________________________________________\n"
          ],
          "name": "stdout"
        }
      ]
    },
    {
      "cell_type": "code",
      "metadata": {
        "id": "xq_YzwmxoOcN",
        "colab": {
          "base_uri": "https://localhost:8080/"
        },
        "outputId": "8d3f9304-84ff-421a-d38e-b5320cfec39f"
      },
      "source": [
        "import h5py\n",
        "\n",
        "# Compile model\n",
        "\n",
        "model.compile(loss='categorical_crossentropy', optimizer='adam', metrics=['accuracy'])\n",
        "\n",
        "# Training model\n",
        "\n",
        "model.fit(X_train, y_train, validation_data=(X_test, y_test), epochs=10, batch_size=200)\n",
        "\n",
        "model.save_weights('FC.h5')\n",
        "\n",
        "# Final evaluation of the model\n",
        "\n",
        "scores = model.evaluate(X_test, y_test)\n",
        "\n",
        "print(\"Baseline Error: %.2f%%\" % (100-scores[1]*100))"
      ],
      "execution_count": null,
      "outputs": [
        {
          "output_type": "stream",
          "text": [
            "Epoch 1/10\n",
            "300/300 [==============================] - 5s 14ms/step - loss: 0.0253 - accuracy: 0.9935 - val_loss: 0.0725 - val_accuracy: 0.9797\n",
            "Epoch 2/10\n",
            "300/300 [==============================] - 4s 13ms/step - loss: 0.0179 - accuracy: 0.9958 - val_loss: 0.0791 - val_accuracy: 0.9783\n",
            "Epoch 3/10\n",
            "300/300 [==============================] - 4s 13ms/step - loss: 0.0158 - accuracy: 0.9964 - val_loss: 0.0690 - val_accuracy: 0.9807\n",
            "Epoch 4/10\n",
            "300/300 [==============================] - 4s 13ms/step - loss: 0.0129 - accuracy: 0.9969 - val_loss: 0.0769 - val_accuracy: 0.9783\n",
            "Epoch 5/10\n",
            "300/300 [==============================] - 4s 13ms/step - loss: 0.0107 - accuracy: 0.9976 - val_loss: 0.0713 - val_accuracy: 0.9806\n",
            "Epoch 6/10\n",
            "300/300 [==============================] - 4s 13ms/step - loss: 0.0071 - accuracy: 0.9987 - val_loss: 0.0794 - val_accuracy: 0.9791\n",
            "Epoch 7/10\n",
            "300/300 [==============================] - 4s 13ms/step - loss: 0.0070 - accuracy: 0.9986 - val_loss: 0.0775 - val_accuracy: 0.9782\n",
            "Epoch 8/10\n",
            "300/300 [==============================] - 4s 13ms/step - loss: 0.0058 - accuracy: 0.9989 - val_loss: 0.0759 - val_accuracy: 0.9809\n",
            "Epoch 9/10\n",
            "300/300 [==============================] - 4s 13ms/step - loss: 0.0047 - accuracy: 0.9990 - val_loss: 0.0772 - val_accuracy: 0.9803\n",
            "Epoch 10/10\n",
            "300/300 [==============================] - 4s 13ms/step - loss: 0.0028 - accuracy: 0.9996 - val_loss: 0.0839 - val_accuracy: 0.9793\n",
            "313/313 [==============================] - 1s 3ms/step - loss: 0.0839 - accuracy: 0.9793\n",
            "Baseline Error: 2.07%\n"
          ],
          "name": "stdout"
        }
      ]
    },
    {
      "cell_type": "markdown",
      "metadata": {
        "id": "1dbczU1E8GBT"
      },
      "source": [
        "# Loading the saved model"
      ]
    },
    {
      "cell_type": "code",
      "metadata": {
        "id": "TqHZJAIW8L7A",
        "colab": {
          "base_uri": "https://localhost:8080/"
        },
        "outputId": "ea1b0b62-2b92-4eb2-deab-af3cec09acaa"
      },
      "source": [
        "model = Sequential()\n",
        "\n",
        "model.add(Dense(500, input_dim=num_pixels, activation='sigmoid'))\n",
        "\n",
        "model.add(Dense(100, activation='sigmoid'))\n",
        "\n",
        "model.add(Dense(50, activation = 'sigmoid'))\n",
        "\n",
        "model.add(Dense(num_classes, activation='softmax'))\n",
        "\n",
        "# Compile model\n",
        "\n",
        "model.compile(loss='categorical_crossentropy', optimizer='adam', metrics=['accuracy'])\n",
        "\n",
        "\n",
        "# Final evaluation of the model\n",
        "\n",
        "scores = model.evaluate(X_test, y_test)\n",
        "\n",
        "print(\"Baseline Error: %.2f%%\" % (100-scores[1]*100))"
      ],
      "execution_count": null,
      "outputs": [
        {
          "output_type": "stream",
          "text": [
            "313/313 [==============================] - 1s 3ms/step - loss: 2.4290 - accuracy: 0.0921\n",
            "Baseline Error: 90.42%\n"
          ],
          "name": "stdout"
        }
      ]
    },
    {
      "cell_type": "code",
      "metadata": {
        "id": "GXWqw37F1QC1",
        "colab": {
          "base_uri": "https://localhost:8080/"
        },
        "outputId": "7541dfe8-d9e9-48d1-a981-315c42402951"
      },
      "source": [
        "model.load_weights('FC.h5')\n",
        "\n",
        "# Final evaluation of the model\n",
        "\n",
        "scores = model.evaluate(X_test, y_test)\n",
        "\n",
        "print(\"Baseline Error: %.2f%%\" % (100-scores[1]*100))"
      ],
      "execution_count": null,
      "outputs": [
        {
          "output_type": "stream",
          "text": [
            "313/313 [==============================] - 1s 3ms/step - loss: 0.0839 - accuracy: 0.9793\n",
            "Baseline Error: 2.07%\n"
          ],
          "name": "stdout"
        }
      ]
    },
    {
      "cell_type": "markdown",
      "metadata": {
        "id": "ZAcPJQh9-VBS"
      },
      "source": [
        "# Creating checkpoints of model"
      ]
    },
    {
      "cell_type": "code",
      "metadata": {
        "id": "1Vw5q_-M_xuZ",
        "colab": {
          "base_uri": "https://localhost:8080/"
        },
        "outputId": "72a3fee6-7b3f-4a1e-ff80-6661438b1f5b"
      },
      "source": [
        "from tensorflow.keras.callbacks import ModelCheckpoint\n",
        "\n",
        "filepath='FC.h5'\n",
        "checkpoint = ModelCheckpoint(filepath, monitor='val_accuracy', save_best_only=True, mode='max')\n",
        "callbacks_list = [checkpoint]\n",
        "model.fit(X_train, y_train, validation_data=(X_test, y_test), epochs=10, batch_size=200, callbacks=callbacks_list)"
      ],
      "execution_count": null,
      "outputs": [
        {
          "output_type": "stream",
          "text": [
            "Epoch 1/10\n",
            "300/300 [==============================] - 4s 14ms/step - loss: 0.0045 - accuracy: 0.9989 - val_loss: 0.0897 - val_accuracy: 0.9775\n",
            "Epoch 2/10\n",
            "300/300 [==============================] - 4s 13ms/step - loss: 0.0048 - accuracy: 0.9987 - val_loss: 0.0895 - val_accuracy: 0.9803\n",
            "Epoch 3/10\n",
            "300/300 [==============================] - 4s 13ms/step - loss: 0.0069 - accuracy: 0.9978 - val_loss: 0.0859 - val_accuracy: 0.9810\n",
            "Epoch 4/10\n",
            "300/300 [==============================] - 4s 13ms/step - loss: 0.0018 - accuracy: 0.9997 - val_loss: 0.0784 - val_accuracy: 0.9822\n",
            "Epoch 5/10\n",
            "300/300 [==============================] - 4s 13ms/step - loss: 8.0437e-04 - accuracy: 0.9999 - val_loss: 0.0812 - val_accuracy: 0.9824\n",
            "Epoch 6/10\n",
            "300/300 [==============================] - 4s 13ms/step - loss: 6.7121e-04 - accuracy: 0.9999 - val_loss: 0.0797 - val_accuracy: 0.9825\n",
            "Epoch 7/10\n",
            "300/300 [==============================] - 4s 13ms/step - loss: 4.4782e-04 - accuracy: 1.0000 - val_loss: 0.0814 - val_accuracy: 0.9829\n",
            "Epoch 8/10\n",
            "300/300 [==============================] - 4s 13ms/step - loss: 4.0175e-04 - accuracy: 1.0000 - val_loss: 0.0838 - val_accuracy: 0.9820\n",
            "Epoch 9/10\n",
            "300/300 [==============================] - 4s 13ms/step - loss: 0.0071 - accuracy: 0.9979 - val_loss: 0.1213 - val_accuracy: 0.9736\n",
            "Epoch 10/10\n",
            "300/300 [==============================] - 4s 13ms/step - loss: 0.0048 - accuracy: 0.9984 - val_loss: 0.0957 - val_accuracy: 0.9789\n"
          ],
          "name": "stdout"
        },
        {
          "output_type": "execute_result",
          "data": {
            "text/plain": [
              "<tensorflow.python.keras.callbacks.History at 0x7f31733c1c50>"
            ]
          },
          "metadata": {
            "tags": []
          },
          "execution_count": 29
        }
      ]
    },
    {
      "cell_type": "markdown",
      "metadata": {
        "id": "11MYT4fQCJM2"
      },
      "source": [
        "# Defining Learning Rate Decay and Other Parameters of Optimizer"
      ]
    },
    {
      "cell_type": "code",
      "metadata": {
        "id": "C5ZWRHHHCPsN",
        "colab": {
          "base_uri": "https://localhost:8080/"
        },
        "outputId": "c09c53ee-3a36-471d-c3f7-2b4e7b7caa8a"
      },
      "source": [
        "from tensorflow.keras.optimizers import SGD, Adam\n",
        "\n",
        "sgd = SGD(lr = 0.001, momentum = 0.0005, decay = 0.0005)   # 0.001  to 0.000001\n",
        "\n",
        "adam = Adam(lr=0.001, beta_1=0.9, beta_2=0.999, epsilon=None, decay=0.0005)\n",
        "\n",
        "model.compile(loss='categorical_crossentropy', optimizer=adam, metrics=['accuracy'])\n",
        "\n",
        "# model.compile(loss='categorical_crossentropy', optimizer=sgd, metrics=['accuracy'])\n",
        "\n",
        "model.fit(X_train, y_train, validation_data=(X_test, y_test), epochs=10, batch_size=200)\n",
        "\n",
        "# Final evaluation of the model\n",
        "\n",
        "scores = model.evaluate(X_test, y_test)\n",
        "\n",
        "print(\"Baseline Error: %.2f%%\" % (100-scores[1]*100))"
      ],
      "execution_count": null,
      "outputs": [
        {
          "output_type": "stream",
          "text": [
            "Epoch 1/10\n",
            "300/300 [==============================] - 5s 14ms/step - loss: 0.0024 - accuracy: 0.9993 - val_loss: 0.0918 - val_accuracy: 0.9811\n",
            "Epoch 2/10\n",
            "300/300 [==============================] - 4s 13ms/step - loss: 8.6285e-04 - accuracy: 0.9998 - val_loss: 0.0862 - val_accuracy: 0.9821\n",
            "Epoch 3/10\n",
            "300/300 [==============================] - 4s 13ms/step - loss: 2.4225e-04 - accuracy: 1.0000 - val_loss: 0.0865 - val_accuracy: 0.9828\n",
            "Epoch 4/10\n",
            "300/300 [==============================] - 4s 13ms/step - loss: 1.4980e-04 - accuracy: 1.0000 - val_loss: 0.0872 - val_accuracy: 0.9830\n",
            "Epoch 5/10\n",
            "300/300 [==============================] - 4s 14ms/step - loss: 1.2104e-04 - accuracy: 1.0000 - val_loss: 0.0873 - val_accuracy: 0.9828\n",
            "Epoch 6/10\n",
            "300/300 [==============================] - 4s 15ms/step - loss: 1.1450e-04 - accuracy: 1.0000 - val_loss: 0.0875 - val_accuracy: 0.9830\n",
            "Epoch 7/10\n",
            "300/300 [==============================] - 4s 13ms/step - loss: 9.2946e-05 - accuracy: 1.0000 - val_loss: 0.0886 - val_accuracy: 0.9830\n",
            "Epoch 8/10\n",
            "300/300 [==============================] - 4s 14ms/step - loss: 9.2786e-05 - accuracy: 1.0000 - val_loss: 0.0889 - val_accuracy: 0.9828\n",
            "Epoch 9/10\n",
            "300/300 [==============================] - 4s 13ms/step - loss: 8.2555e-05 - accuracy: 1.0000 - val_loss: 0.0896 - val_accuracy: 0.9829\n",
            "Epoch 10/10\n",
            "300/300 [==============================] - 4s 13ms/step - loss: 7.5632e-05 - accuracy: 1.0000 - val_loss: 0.0902 - val_accuracy: 0.9831\n",
            "313/313 [==============================] - 1s 3ms/step - loss: 0.0902 - accuracy: 0.9831\n",
            "Baseline Error: 1.69%\n"
          ],
          "name": "stdout"
        }
      ]
    },
    {
      "cell_type": "markdown",
      "metadata": {
        "id": "HY80VbD_uvmF"
      },
      "source": [
        "# Defining Regularizers for the model"
      ]
    },
    {
      "cell_type": "markdown",
      "metadata": {
        "id": "KHzC_Hjju0D1"
      },
      "source": [
        "Here we will add dropout and weight decay regularizations in the model"
      ]
    },
    {
      "cell_type": "code",
      "metadata": {
        "id": "qILM6ENZvFlc"
      },
      "source": [
        "from tensorflow.keras import regularizers\n",
        "from tensorflow.keras.layers import Dropout\n",
        "\n",
        "model = Sequential() \n",
        "\n",
        "model.add(Dense(500, input_dim=num_pixels, activation='sigmoid', kernel_regularizer=regularizers.l2(1e-4)))\n",
        "\n",
        "model.add(Dropout(0.3))\n",
        "\n",
        "model.add(Dense(100, activation='sigmoid', kernel_regularizer=regularizers.l2(1e-4)))\n",
        "\n",
        "model.add(Dropout(0.25))\n",
        "\n",
        "model.add(Dense(50, activation = 'sigmoid', kernel_regularizer=regularizers.l2(1e-4)))\n",
        "\n",
        "model.add(Dropout(0.3))\n",
        "\n",
        "model.add(Dense(num_classes, activation='softmax', kernel_regularizer=regularizers.l2(1e-4)))"
      ],
      "execution_count": null,
      "outputs": []
    },
    {
      "cell_type": "code",
      "metadata": {
        "colab": {
          "base_uri": "https://localhost:8080/"
        },
        "id": "wT5y2vqxv3Pz",
        "outputId": "5c3a9602-0608-4646-9978-800886f26574"
      },
      "source": [
        "# Compile model\n",
        "from tensorflow.keras.callbacks import ModelCheckpoint\n",
        "model.compile(loss='categorical_crossentropy', optimizer='adam', metrics=['accuracy'])\n",
        "\n",
        "# Training model\n",
        "\n",
        "model.fit(X_train, y_train, validation_data=(X_test, y_test), epochs=10, batch_size=200)\n",
        "\n",
        "# Final evaluation of the model\n",
        "\n",
        "scores = model.evaluate(X_test, y_test)\n",
        "\n",
        "print(\"Baseline Error: %.2f%%\" % (100-scores[1]*100))"
      ],
      "execution_count": null,
      "outputs": [
        {
          "output_type": "stream",
          "text": [
            "Epoch 1/10\n",
            "300/300 [==============================] - 5s 16ms/step - loss: 1.8676 - accuracy: 0.3907 - val_loss: 0.6432 - val_accuracy: 0.8772\n",
            "Epoch 2/10\n",
            "300/300 [==============================] - 5s 16ms/step - loss: 0.7163 - accuracy: 0.8450 - val_loss: 0.4491 - val_accuracy: 0.9173\n",
            "Epoch 3/10\n",
            "300/300 [==============================] - 5s 16ms/step - loss: 0.5630 - accuracy: 0.8891 - val_loss: 0.3997 - val_accuracy: 0.9270\n",
            "Epoch 4/10\n",
            "300/300 [==============================] - 5s 16ms/step - loss: 0.4990 - accuracy: 0.9080 - val_loss: 0.3586 - val_accuracy: 0.9409\n",
            "Epoch 5/10\n",
            "300/300 [==============================] - 5s 16ms/step - loss: 0.4580 - accuracy: 0.9172 - val_loss: 0.3468 - val_accuracy: 0.9458\n",
            "Epoch 6/10\n",
            "300/300 [==============================] - 5s 17ms/step - loss: 0.4347 - accuracy: 0.9243 - val_loss: 0.3309 - val_accuracy: 0.9509\n",
            "Epoch 7/10\n",
            "300/300 [==============================] - 5s 16ms/step - loss: 0.4138 - accuracy: 0.9312 - val_loss: 0.3244 - val_accuracy: 0.9512\n",
            "Epoch 8/10\n",
            "300/300 [==============================] - 5s 16ms/step - loss: 0.4053 - accuracy: 0.9335 - val_loss: 0.3103 - val_accuracy: 0.9586\n",
            "Epoch 9/10\n",
            "300/300 [==============================] - 5s 16ms/step - loss: 0.3959 - accuracy: 0.9367 - val_loss: 0.3073 - val_accuracy: 0.9592\n",
            "Epoch 10/10\n",
            "300/300 [==============================] - 5s 16ms/step - loss: 0.3897 - accuracy: 0.9404 - val_loss: 0.3082 - val_accuracy: 0.9596\n",
            "313/313 [==============================] - 1s 4ms/step - loss: 0.3082 - accuracy: 0.9596\n",
            "Baseline Error: 4.04%\n"
          ],
          "name": "stdout"
        }
      ]
    },
    {
      "cell_type": "markdown",
      "metadata": {
        "id": "QaoDQO04wEPb"
      },
      "source": [
        "# Defining Initialization for the model"
      ]
    },
    {
      "cell_type": "markdown",
      "metadata": {
        "id": "ttyUheRzwEPb"
      },
      "source": [
        "Here we will add dropout and glorot normal initialization in the model"
      ]
    },
    {
      "cell_type": "code",
      "metadata": {
        "id": "jmDmi5SVwEPb"
      },
      "source": [
        "from tensorflow.keras import initializers\n",
        "from tensorflow.keras.layers import Dropout\n",
        "\n",
        "model = Sequential()\n",
        "\n",
        "model.add(Dense(500, input_dim=num_pixels, activation='sigmoid', kernel_initializer=initializers.GlorotNormal()))\n",
        "\n",
        "model.add(Dense(100, activation='sigmoid', kernel_initializer=initializers.GlorotNormal()))\n",
        "\n",
        "model.add(Dense(50, activation = 'sigmoid', kernel_initializer=initializers.GlorotNormal()))\n",
        "\n",
        "model.add(Dense(num_classes, activation='softmax', kernel_initializer=initializers.GlorotNormal()))"
      ],
      "execution_count": null,
      "outputs": []
    },
    {
      "cell_type": "code",
      "metadata": {
        "colab": {
          "base_uri": "https://localhost:8080/"
        },
        "id": "U4PcPvhIwEPb",
        "outputId": "aafd377b-0e3a-48aa-fc2f-98f9a248d346"
      },
      "source": [
        "# Compile model\n",
        "from tensorflow.keras.callbacks import ModelCheckpoint\n",
        "model.compile(loss='categorical_crossentropy', optimizer='adam', metrics=['accuracy'])\n",
        "\n",
        "# Training model\n",
        "\n",
        "model.fit(X_train, y_train, validation_data=(X_test, y_test), epochs=10, batch_size=200)\n",
        "\n",
        "# Final evaluation of the model\n",
        "\n",
        "scores = model.evaluate(X_test, y_test)\n",
        "\n",
        "print(\"Baseline Error: %.2f%%\" % (100-scores[1]*100))"
      ],
      "execution_count": null,
      "outputs": [
        {
          "output_type": "stream",
          "text": [
            "Epoch 1/10\n",
            "300/300 [==============================] - 5s 14ms/step - loss: 1.5988 - accuracy: 0.5690 - val_loss: 0.3801 - val_accuracy: 0.9106\n",
            "Epoch 2/10\n",
            "300/300 [==============================] - 4s 13ms/step - loss: 0.3308 - accuracy: 0.9168 - val_loss: 0.2273 - val_accuracy: 0.9398\n",
            "Epoch 3/10\n",
            "300/300 [==============================] - 4s 13ms/step - loss: 0.2090 - accuracy: 0.9443 - val_loss: 0.1712 - val_accuracy: 0.9515\n",
            "Epoch 4/10\n",
            "300/300 [==============================] - 4s 13ms/step - loss: 0.1488 - accuracy: 0.9590 - val_loss: 0.1348 - val_accuracy: 0.9617\n",
            "Epoch 5/10\n",
            "300/300 [==============================] - 4s 13ms/step - loss: 0.1141 - accuracy: 0.9694 - val_loss: 0.1115 - val_accuracy: 0.9666\n",
            "Epoch 6/10\n",
            "300/300 [==============================] - 4s 13ms/step - loss: 0.0915 - accuracy: 0.9750 - val_loss: 0.1031 - val_accuracy: 0.9703\n",
            "Epoch 7/10\n",
            "300/300 [==============================] - 4s 13ms/step - loss: 0.0749 - accuracy: 0.9786 - val_loss: 0.0911 - val_accuracy: 0.9726\n",
            "Epoch 8/10\n",
            "300/300 [==============================] - 4s 13ms/step - loss: 0.0628 - accuracy: 0.9823 - val_loss: 0.0844 - val_accuracy: 0.9740\n",
            "Epoch 9/10\n",
            "300/300 [==============================] - 4s 13ms/step - loss: 0.0535 - accuracy: 0.9849 - val_loss: 0.0765 - val_accuracy: 0.9761\n",
            "Epoch 10/10\n",
            "300/300 [==============================] - 4s 13ms/step - loss: 0.0427 - accuracy: 0.9878 - val_loss: 0.0748 - val_accuracy: 0.9771\n",
            "313/313 [==============================] - 1s 3ms/step - loss: 0.0748 - accuracy: 0.9771\n",
            "Baseline Error: 2.29%\n"
          ],
          "name": "stdout"
        }
      ]
    }
  ]
}